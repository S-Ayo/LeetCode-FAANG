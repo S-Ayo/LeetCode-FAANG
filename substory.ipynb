{
 "cells": [
  {
   "cell_type": "code",
   "execution_count": 14,
   "metadata": {},
   "outputs": [],
   "source": [
    "import pandas"
   ]
  },
  {
   "cell_type": "code",
   "execution_count": null,
   "metadata": {},
   "outputs": [],
   "source": [
    "hunt = [2,3,1,2,4,2,6,2,5,1,2,3,2,2, 4]\n",
    "\n",
    "payt = {}"
   ]
  },
  {
   "cell_type": "markdown",
   "metadata": {},
   "source": [
    "in the arraw above, write a python code to return the most occuring number."
   ]
  },
  {
   "cell_type": "code",
   "execution_count": 15,
   "metadata": {},
   "outputs": [
    {
     "name": "stdout",
     "output_type": "stream",
     "text": [
      "2: 7 times\n",
      "3: 2 times\n",
      "1: 2 times\n",
      "4: 1 times\n",
      "6: 1 times\n",
      "5: 1 times\n"
     ]
    }
   ],
   "source": [
    "for number in hunt:\n",
    "    if number in payt:\n",
    "        payt[number] += 1\n",
    "    else:\n",
    "        payt[number] = 1\n",
    "\n",
    "for number, count in payt.items():\n",
    "    print(f\"{number}: {count} times\")"
   ]
  },
  {
   "cell_type": "markdown",
   "metadata": {},
   "source": [
    "now let's trythe two-sum, find the numbers in the array that equals 'sunmt'"
   ]
  },
  {
   "cell_type": "code",
   "execution_count": 26,
   "metadata": {},
   "outputs": [
    {
     "name": "stdout",
     "output_type": "stream",
     "text": [
      "8 4\n",
      "6 6\n",
      "4 8\n",
      "8 4\n"
     ]
    }
   ],
   "source": [
    "sunmt = 12\n",
    "pago = [3,4,6,8,7,4,]\n",
    "\n",
    "\n",
    "for number in pago :\n",
    "    reft = sunmt - number\n",
    "    if reft in pago :\n",
    "        print(reft,number)\n",
    "\n",
    "\n",
    "\n"
   ]
  },
  {
   "cell_type": "code",
   "execution_count": 25,
   "metadata": {},
   "outputs": [
    {
     "ename": "KeyError",
     "evalue": "3",
     "output_type": "error",
     "traceback": [
      "\u001b[1;31m---------------------------------------------------------------------------\u001b[0m",
      "\u001b[1;31mKeyError\u001b[0m                                  Traceback (most recent call last)",
      "Cell \u001b[1;32mIn[25], line 10\u001b[0m\n\u001b[0;32m      8\u001b[0m         yema[number] \u001b[38;5;241m+\u001b[39m\u001b[38;5;241m=\u001b[39m \u001b[38;5;241m1\u001b[39m\n\u001b[0;32m      9\u001b[0m     \u001b[38;5;28;01melse\u001b[39;00m:\n\u001b[1;32m---> 10\u001b[0m         \u001b[43myema\u001b[49m\u001b[43m[\u001b[49m\u001b[43mnumber\u001b[49m\u001b[43m]\u001b[49m \n\u001b[0;32m     12\u001b[0m \u001b[38;5;28mprint\u001b[39m(yema)\n",
      "\u001b[1;31mKeyError\u001b[0m: 3"
     ]
    }
   ],
   "source": [
    "sunmt = 12\n",
    "pago = [3,4,6,8,7,4,]\n",
    "\n",
    "yema = { num: }\n",
    "\n",
    "# for number in pago:\n",
    "#     if number in yema:\n",
    "#         yema[number] += 1\n",
    "#     else:\n",
    "#         yema[number] = 1\n",
    "\n",
    "print(yema)\n",
    "\n",
    "\n"
   ]
  }
 ],
 "metadata": {
  "kernelspec": {
   "display_name": "Python 3",
   "language": "python",
   "name": "python3"
  },
  "language_info": {
   "codemirror_mode": {
    "name": "ipython",
    "version": 3
   },
   "file_extension": ".py",
   "mimetype": "text/x-python",
   "name": "python",
   "nbconvert_exporter": "python",
   "pygments_lexer": "ipython3",
   "version": "3.12.2"
  }
 },
 "nbformat": 4,
 "nbformat_minor": 2
}
